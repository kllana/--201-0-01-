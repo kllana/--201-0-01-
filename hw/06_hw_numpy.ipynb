{
  "cells": [
    {
      "cell_type": "markdown",
      "metadata": {
        "id": "view-in-github",
        "colab_type": "text"
      },
      "source": [
        "<a href=\"https://colab.research.google.com/github/kllana/--201-0-01-/blob/main/hw/06_hw_numpy.ipynb\" target=\"_parent\"><img src=\"https://colab.research.google.com/assets/colab-badge.svg\" alt=\"Open In Colab\"/></a>"
      ]
    },
    {
      "cell_type": "markdown",
      "metadata": {
        "id": "w-8MF0U_10l0"
      },
      "source": [
        "# Домашняя работа. Numpy\n",
        "\n",
        "1. Скачайте этот ноутбук к себе.\n",
        "2. Заполните пропущенные ячейки, отвечая на заданные вопросы. Там должен быть код! (если не сказано обратное)\n",
        "3. Сохраните результат в своём гитхаб репозитории.\n",
        "\n",
        "#### Полезная литература\n",
        "\n",
        "- http://www.numpy.org/\n",
        "- https://jakevdp.github.io/PythonDataScienceHandbook/02.00-introduction-to-numpy.html\n",
        "- https://docs.scipy.org/doc/numpy/user/quickstart.html"
      ]
    },
    {
      "cell_type": "markdown",
      "metadata": {
        "id": "_qLb0LOq10mA"
      },
      "source": [
        "1) Импортировать numpy и написать версию"
      ]
    },
    {
      "cell_type": "code",
      "execution_count": 2,
      "metadata": {
        "colab": {
          "base_uri": "https://localhost:8080/"
        },
        "id": "nn5hfn1D10mC",
        "outputId": "5155ea76-1d1f-4ddc-d18e-5bb410c984e4"
      },
      "outputs": [
        {
          "output_type": "stream",
          "name": "stdout",
          "text": [
            "1.26.4\n"
          ]
        }
      ],
      "source": [
        "import numpy as np\n",
        "print(np.__version__)"
      ]
    },
    {
      "cell_type": "markdown",
      "metadata": {
        "id": "2IymfIFq10mD"
      },
      "source": [
        "2) Создать нулевой вектор размера 10"
      ]
    },
    {
      "cell_type": "code",
      "execution_count": 41,
      "metadata": {
        "colab": {
          "base_uri": "https://localhost:8080/"
        },
        "id": "az6PhCH110mE",
        "outputId": "30bfbcd0-316c-486d-9d94-4abfff2c37da"
      },
      "outputs": [
        {
          "output_type": "execute_result",
          "data": {
            "text/plain": [
              "array([0., 0., 0., 0., 0., 0., 0., 0., 0., 0.])"
            ]
          },
          "metadata": {},
          "execution_count": 41
        }
      ],
      "source": [
        "np.zeros(10)"
      ]
    },
    {
      "cell_type": "markdown",
      "metadata": {
        "id": "5BfTRIe_10mF"
      },
      "source": [
        "3) Создать вектор заполненный 7-ами размера 7"
      ]
    },
    {
      "cell_type": "code",
      "execution_count": null,
      "metadata": {
        "id": "5_Mg0H3S10mF"
      },
      "outputs": [],
      "source": [
        "np.full((7),7)"
      ]
    },
    {
      "cell_type": "markdown",
      "metadata": {
        "id": "uxWg_bpr10mH"
      },
      "source": [
        "4) Создать вектор заполненный четными числами от 10 до 100"
      ]
    },
    {
      "cell_type": "code",
      "execution_count": null,
      "metadata": {
        "id": "70Q1D6mx10mI"
      },
      "outputs": [],
      "source": [
        "np.arange(10, 101, 2)"
      ]
    },
    {
      "cell_type": "markdown",
      "metadata": {
        "id": "pYmGCmtJ10mK"
      },
      "source": [
        "5) Создать массив случайных чисел и развернуть его задом наперёд"
      ]
    },
    {
      "cell_type": "code",
      "execution_count": 17,
      "metadata": {
        "colab": {
          "base_uri": "https://localhost:8080/"
        },
        "id": "oH-brdgi10mL",
        "outputId": "f925bf31-b425-426c-853d-4f3731c73948"
      },
      "outputs": [
        {
          "output_type": "execute_result",
          "data": {
            "text/plain": [
              "array([0.32168756, 0.49943459, 0.47279413, 0.58142586, 0.51082734,\n",
              "       0.88522492, 0.39506133, 0.75691339, 0.35227861, 0.63431856])"
            ]
          },
          "metadata": {},
          "execution_count": 17
        }
      ],
      "source": [
        "arr = np.random.rand(10)\n",
        "print (arr)\n",
        "arr2 = arr [::-1]\n",
        "print (arr2)"
      ]
    },
    {
      "cell_type": "markdown",
      "metadata": {
        "id": "ErrDETrG10mL"
      },
      "source": [
        "6) Создать двумерную матрицу размера 3 на 3, заполненную числами от 0 до 9"
      ]
    },
    {
      "cell_type": "code",
      "execution_count": null,
      "metadata": {
        "id": "FldEJ-K_10mM"
      },
      "outputs": [],
      "source": [
        "np.arange(9).reshape(3,3)"
      ]
    },
    {
      "cell_type": "markdown",
      "metadata": {
        "id": "rRvpLpP010mN"
      },
      "source": [
        "7) Создать матрицу размера 4 на 4 с единицами на диагонали смещеной на один наверх."
      ]
    },
    {
      "cell_type": "code",
      "execution_count": 3,
      "metadata": {
        "colab": {
          "base_uri": "https://localhost:8080/"
        },
        "id": "t9GGPE2V10mO",
        "outputId": "dc507a07-737f-4796-9e37-0eac42843bf9"
      },
      "outputs": [
        {
          "output_type": "execute_result",
          "data": {
            "text/plain": [
              "array([[0., 1., 0., 0.],\n",
              "       [0., 0., 1., 0.],\n",
              "       [0., 0., 0., 1.],\n",
              "       [0., 0., 0., 0.]])"
            ]
          },
          "metadata": {},
          "execution_count": 3
        }
      ],
      "source": [
        "np.eye(4, k=1)"
      ]
    },
    {
      "cell_type": "markdown",
      "metadata": {
        "id": "1P5LTVYw10mO"
      },
      "source": [
        "8) Создать матрицу с числами в диапазоне от 1 до 4 по диагонали. В других ячейках матрицы должны быть семерки."
      ]
    },
    {
      "cell_type": "code",
      "execution_count": 16,
      "metadata": {
        "colab": {
          "base_uri": "https://localhost:8080/"
        },
        "id": "b49vULnK10mO",
        "outputId": "3a741ad3-d8c6-4c20-f2dd-e0ada14d29b2"
      },
      "outputs": [
        {
          "output_type": "execute_result",
          "data": {
            "text/plain": [
              "array([[1, 7, 7, 7],\n",
              "       [7, 2, 7, 7],\n",
              "       [7, 7, 3, 7],\n",
              "       [7, 7, 7, 4]])"
            ]
          },
          "metadata": {},
          "execution_count": 16
        }
      ],
      "source": [
        "matrix = np.full((4, 4), 7)\n",
        "np.fill_diagonal(matrix, np.arange(1, 5))\n",
        "matrix"
      ]
    },
    {
      "cell_type": "markdown",
      "metadata": {
        "id": "-QT4MgXj10mP"
      },
      "source": [
        "9) Создать матрицу размера 5 на 5 заполненную чилами от 0 до 4 в строках."
      ]
    },
    {
      "cell_type": "code",
      "execution_count": 14,
      "metadata": {
        "colab": {
          "base_uri": "https://localhost:8080/"
        },
        "id": "V54aNTLE10mP",
        "outputId": "82ea2100-21db-485f-e060-36cea4b74cf2"
      },
      "outputs": [
        {
          "output_type": "execute_result",
          "data": {
            "text/plain": [
              "array([[0, 1, 2, 3, 4],\n",
              "       [0, 1, 2, 3, 4],\n",
              "       [0, 1, 2, 3, 4],\n",
              "       [0, 1, 2, 3, 4],\n",
              "       [0, 1, 2, 3, 4]])"
            ]
          },
          "metadata": {},
          "execution_count": 14
        }
      ],
      "source": [
        "np.tile(np.arange(0, 5), (5, 1))\n"
      ]
    },
    {
      "cell_type": "markdown",
      "metadata": {
        "id": "fu7T0-Rf10mQ"
      },
      "source": [
        "10) Создать матрицу случайных чисел размера 10 на 10 и отнять среднее по строкам из каждого элемента строки"
      ]
    },
    {
      "cell_type": "markdown",
      "source": [],
      "metadata": {
        "id": "1FdoJL0V_mwS"
      }
    },
    {
      "cell_type": "code",
      "execution_count": 28,
      "metadata": {
        "colab": {
          "base_uri": "https://localhost:8080/"
        },
        "id": "1cTriFVj10mR",
        "outputId": "e5c8922f-512a-4247-897f-d04fb120e8d3"
      },
      "outputs": [
        {
          "output_type": "stream",
          "name": "stdout",
          "text": [
            "[[-0.48396728  0.31717338  0.19226476  0.24631895  0.2588183   0.29907873\n",
            "  -0.23538491  0.25861357 -0.08620512  0.28626032]\n",
            " [ 0.17227741 -0.22998136  0.06283476  0.27026155 -0.57411742  0.22652181\n",
            "   0.01357241  0.16302213  0.04858143 -0.23015935]\n",
            " [-0.1733078  -0.41467443  0.10986667 -0.13076601 -0.58020842 -0.14559781\n",
            "   0.08153649  0.33433399 -0.14337316  0.3765786 ]\n",
            " [-0.43690541  0.34829039  0.28745781  0.20644208 -0.29015667 -0.38044896\n",
            "  -0.43239822  0.35010201  0.02270852  0.10362171]\n",
            " [-0.43023123  0.28031664  0.43766136  0.28401926  0.27971897  0.40645341\n",
            "   0.36139865  0.32471143 -0.59547517 -0.07229633]\n",
            " [-0.29950818 -0.10234559  0.35484864 -0.0222492   0.08604599 -0.2357432\n",
            "  -0.47579864 -0.08489861 -0.37881454  0.21963242]\n",
            " [-0.59352662 -0.03303506  0.40373328 -0.26489062  0.18226306  0.48620844\n",
            "  -0.03857294  0.35615918  0.33130367 -0.20819129]\n",
            " [ 0.02517035  0.02294844 -0.3591556   0.34669821 -0.48708364 -0.22240365\n",
            "   0.19611432  0.33560175  0.13478146  0.37309473]\n",
            " [-0.34982993  0.15162742  0.11137538  0.05572225  0.31059655  0.41652359\n",
            "  -0.35438012  0.15959933  0.04888727  0.76695692]\n",
            " [-0.4352656  -0.12321442 -0.24905966 -0.13979349 -0.47090859 -0.33105529\n",
            "  -0.34109921 -0.25105705 -0.36794182 -0.00123251]]\n"
          ]
        }
      ],
      "source": [
        "arr = np.random.rand(10, 10)\n",
        "means = np.mean(arr, axis=1)\n",
        "result = arr - means\n",
        "print(result)"
      ]
    },
    {
      "cell_type": "markdown",
      "metadata": {
        "id": "FDySr3CC10mR"
      },
      "source": [
        "11) Создать матрицу случайных чисел размера 10 на 10 и отнять медиану по столбцам из каждого элемента столбца  "
      ]
    },
    {
      "cell_type": "code",
      "execution_count": 29,
      "metadata": {
        "colab": {
          "base_uri": "https://localhost:8080/"
        },
        "id": "i_BxjibZ10mS",
        "outputId": "effe4d84-7583-468b-9a3b-f363efcc7f1e"
      },
      "outputs": [
        {
          "output_type": "stream",
          "name": "stdout",
          "text": [
            "[[-0.35340667  0.00281318 -0.51063263  0.42845177  0.54470516 -0.08078927\n",
            "  -0.22615741  0.18470266  0.29104105 -0.04056281]\n",
            " [ 0.08901001 -0.42582531 -0.36858393  0.23141047 -0.1355788   0.54267306\n",
            "  -0.32907504 -0.16024022 -0.47620796 -0.26070327]\n",
            " [-0.32238848 -0.26973681  0.11577688 -0.1181194   0.18322791 -0.363262\n",
            "  -0.34968739 -0.42613005 -0.39620656 -0.11470159]\n",
            " [-0.26449231 -0.25653558  0.17536724  0.21134819 -0.3721195   0.33250447\n",
            "   0.05251251 -0.21839235 -0.21724053  0.28168855]\n",
            " [ 0.46836916 -0.37588161  0.06783953 -0.3148188   0.07582857 -0.15357645\n",
            "  -0.08617589  0.35431527  0.22130012 -0.301595  ]\n",
            " [-0.12487911  0.44220362  0.33596484  0.07367084 -0.41805192  0.12714588\n",
            "  -0.19134936 -0.2633493   0.31621808  0.09074532]\n",
            " [ 0.4088424   0.31196905 -0.1064787  -0.39926214  0.37570924  0.34859781\n",
            "   0.4455235   0.18822402  0.07656791 -0.26225485]\n",
            " [-0.25420303  0.38275876 -0.13954601  0.41413588  0.16184325 -0.36421517\n",
            "   0.36184634  0.11801565  0.19976481  0.11998743]\n",
            " [ 0.38092586  0.29316351  0.31436443 -0.0908056  -0.19903084 -0.37639037\n",
            "   0.23921688  0.22125442 -0.17822284  0.07539785]\n",
            " [-0.02777783 -0.10492881  0.11592834 -0.4360112  -0.21653308 -0.01268797\n",
            "   0.08334586  0.00159989  0.16298592  0.41199838]]\n"
          ]
        }
      ],
      "source": [
        "arr = np.random.rand(10, 10)\n",
        "means = np.mean(arr, axis=0)\n",
        "result = arr - means\n",
        "print(result)"
      ]
    },
    {
      "cell_type": "markdown",
      "metadata": {
        "id": "ujQ200VA10mS"
      },
      "source": [
        "12) Создать матрицу случайных чисел 5x5. Добавить к ней столбецы максимумов и минимумов по строкам. Получится матрица 5x7.  "
      ]
    },
    {
      "cell_type": "code",
      "execution_count": null,
      "metadata": {
        "id": "moHnFx2Z10mS"
      },
      "outputs": [],
      "source": [
        "arr = np.random.rand(5, 5)\n",
        "maxim = np.max(arr, axis=1)\n",
        "minim = np.min(arr, axis=1)\n",
        "result = np.column_stack((arr, maxim, minim))\n",
        "print(result)"
      ]
    },
    {
      "cell_type": "markdown",
      "metadata": {
        "id": "e89VWzSk10mS"
      },
      "source": [
        "13) Вектор чисел от 1 до 51 преобразовать в вектор нечетных чисел и в вектор четных чисел, поменять их размерности, чтобы получились две матрица. Найти произведение этих матриц. Найти обратную матрицу эётого произведения.  "
      ]
    },
    {
      "cell_type": "code",
      "execution_count": 33,
      "metadata": {
        "colab": {
          "base_uri": "https://localhost:8080/"
        },
        "id": "BIs9TxSR10mT",
        "outputId": "ba22b30d-06e8-4321-dcda-e6eb0b7c6225"
      },
      "outputs": [
        {
          "output_type": "stream",
          "name": "stdout",
          "text": [
            "[[ 700  750  800  850  900]\n",
            " [1700 1850 2000 2150 2300]\n",
            " [2700 2950 3200 3450 3700]\n",
            " [3700 4050 4400 4750 5100]\n",
            " [4700 5150 5600 6050 6500]]\n",
            "[[ 8.24633721e+11  0.00000000e+00 -2.19902326e+12  1.09951163e+12\n",
            "   2.74877907e+11]\n",
            " [ 2.93750000e-02 -2.19902326e+12  3.29853488e+12 -0.00000000e+00\n",
            "  -1.09951163e+12]\n",
            " [-2.74877907e+12  4.39804651e+12 -0.00000000e+00 -2.19902326e+12\n",
            "   5.49755814e+11]\n",
            " [ 2.19902326e+12 -2.19902326e+12 -1.09951163e+12 -0.00000000e+00\n",
            "   1.09951163e+12]\n",
            " [-2.74877907e+11  0.00000000e+00  0.00000000e+00  1.09951163e+12\n",
            "  -8.24633721e+11]]\n"
          ]
        }
      ],
      "source": [
        "odds = np.arange(1, 51, 2).reshape(5, 5)\n",
        "evens = np.arange(0, 50, 2).reshape(5, 5)\n",
        "product = np.dot(odds, evens)\n",
        "inverse = np.linalg.inv(product)\n",
        "print (product)\n",
        "print(inverse)\n"
      ]
    },
    {
      "cell_type": "markdown",
      "metadata": {
        "id": "Eac1qCSI10mT"
      },
      "source": [
        "14) Создать 8x8 матрицу и заполнить её в шахматном порядке нулями и единицами."
      ]
    },
    {
      "cell_type": "code",
      "execution_count": 40,
      "metadata": {
        "colab": {
          "base_uri": "https://localhost:8080/"
        },
        "id": "vQ1Ts0vx10mU",
        "outputId": "06d4d1a5-1f28-42e3-b1f6-d8e68b6628ed"
      },
      "outputs": [
        {
          "output_type": "stream",
          "name": "stdout",
          "text": [
            "[[0 1 0 1 0 1 0 1]\n",
            " [1 0 1 0 1 0 1 0]\n",
            " [0 1 0 1 0 1 0 1]\n",
            " [1 0 1 0 1 0 1 0]\n",
            " [0 1 0 1 0 1 0 1]\n",
            " [1 0 1 0 1 0 1 0]\n",
            " [0 1 0 1 0 1 0 1]\n",
            " [1 0 1 0 1 0 1 0]]\n"
          ]
        }
      ],
      "source": [
        "arr = np.zeros((8, 8), dtype=int)\n",
        "arr[1::2, ::2] = 1\n",
        "arr[::2, 1::2] = 1\n",
        "print(arr)\n"
      ]
    }
  ],
  "metadata": {
    "kernelspec": {
      "display_name": "Python 3 (ipykernel)",
      "language": "python",
      "name": "python3"
    },
    "language_info": {
      "codemirror_mode": {
        "name": "ipython",
        "version": 3
      },
      "file_extension": ".py",
      "mimetype": "text/x-python",
      "name": "python",
      "nbconvert_exporter": "python",
      "pygments_lexer": "ipython3",
      "version": "3.12.4"
    },
    "colab": {
      "provenance": [],
      "toc_visible": true,
      "include_colab_link": true
    }
  },
  "nbformat": 4,
  "nbformat_minor": 0
}