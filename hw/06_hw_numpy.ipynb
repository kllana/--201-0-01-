{
  "cells": [
    {
      "cell_type": "markdown",
      "metadata": {
        "id": "view-in-github",
        "colab_type": "text"
      },
      "source": [
        "<a href=\"https://colab.research.google.com/github/kllana/--201-0-01-/blob/main/hw/06_hw_numpy.ipynb\" target=\"_parent\"><img src=\"https://colab.research.google.com/assets/colab-badge.svg\" alt=\"Open In Colab\"/></a>"
      ]
    },
    {
      "cell_type": "markdown",
      "metadata": {
        "id": "w-8MF0U_10l0"
      },
      "source": [
        "# Домашняя работа. Numpy\n",
        "\n",
        "1. Скачайте этот ноутбук к себе.\n",
        "2. Заполните пропущенные ячейки, отвечая на заданные вопросы. Там должен быть код! (если не сказано обратное)\n",
        "3. Сохраните результат в своём гитхаб репозитории.\n",
        "\n",
        "#### Полезная литература\n",
        "\n",
        "- http://www.numpy.org/\n",
        "- https://jakevdp.github.io/PythonDataScienceHandbook/02.00-introduction-to-numpy.html\n",
        "- https://docs.scipy.org/doc/numpy/user/quickstart.html"
      ]
    },
    {
      "cell_type": "markdown",
      "metadata": {
        "id": "_qLb0LOq10mA"
      },
      "source": [
        "1) Импортировать numpy и написать версию"
      ]
    },
    {
      "cell_type": "code",
      "execution_count": null,
      "metadata": {
        "id": "nn5hfn1D10mC"
      },
      "outputs": [],
      "source": [
        "import numpy as np\n",
        "print(np.__version__)"
      ]
    },
    {
      "cell_type": "markdown",
      "metadata": {
        "id": "2IymfIFq10mD"
      },
      "source": [
        "2) Создать нулевой вектор размера 10"
      ]
    },
    {
      "cell_type": "code",
      "execution_count": null,
      "metadata": {
        "id": "az6PhCH110mE"
      },
      "outputs": [],
      "source": [
        "np.zeros(10)"
      ]
    },
    {
      "cell_type": "markdown",
      "metadata": {
        "id": "5BfTRIe_10mF"
      },
      "source": [
        "3) Создать вектор заполненный 7-ами размера 7"
      ]
    },
    {
      "cell_type": "code",
      "execution_count": null,
      "metadata": {
        "id": "5_Mg0H3S10mF"
      },
      "outputs": [],
      "source": [
        "np.full((7),7)"
      ]
    },
    {
      "cell_type": "markdown",
      "metadata": {
        "id": "uxWg_bpr10mH"
      },
      "source": [
        "4) Создать вектор заполненный четными числами от 10 до 100"
      ]
    },
    {
      "cell_type": "code",
      "execution_count": null,
      "metadata": {
        "id": "70Q1D6mx10mI"
      },
      "outputs": [],
      "source": [
        "np.arange(10, 101, 2)"
      ]
    },
    {
      "cell_type": "markdown",
      "metadata": {
        "id": "pYmGCmtJ10mK"
      },
      "source": [
        "5) Создать массив случайных чисел и развернуть его задом наперёд"
      ]
    },
    {
      "cell_type": "code",
      "execution_count": null,
      "metadata": {
        "id": "oH-brdgi10mL"
      },
      "outputs": [],
      "source": [
        "arr = np.random.rand(10)\n",
        "print (arr)\n",
        "arr2 = arr [::-1]\n",
        "print (arr2)"
      ]
    },
    {
      "cell_type": "markdown",
      "metadata": {
        "id": "ErrDETrG10mL"
      },
      "source": [
        "6) Создать двумерную матрицу размера 3 на 3, заполненную числами от 0 до 9"
      ]
    },
    {
      "cell_type": "code",
      "execution_count": null,
      "metadata": {
        "id": "FldEJ-K_10mM"
      },
      "outputs": [],
      "source": [
        "np.arange(9).reshape(3,3)"
      ]
    },
    {
      "cell_type": "markdown",
      "metadata": {
        "id": "rRvpLpP010mN"
      },
      "source": [
        "7) Создать матрицу размера 4 на 4 с единицами на диагонали смещеной на один наверх."
      ]
    },
    {
      "cell_type": "code",
      "execution_count": null,
      "metadata": {
        "id": "t9GGPE2V10mO"
      },
      "outputs": [],
      "source": [
        "np.eye(4, k=1)"
      ]
    },
    {
      "cell_type": "markdown",
      "metadata": {
        "id": "1P5LTVYw10mO"
      },
      "source": [
        "8) Создать матрицу с числами в диапазоне от 1 до 4 по диагонали. В других ячейках матрицы должны быть семерки."
      ]
    },
    {
      "cell_type": "code",
      "execution_count": null,
      "metadata": {
        "id": "b49vULnK10mO"
      },
      "outputs": [],
      "source": [
        "matrix = np.full((4, 4), 7)\n",
        "np.fill_diagonal(matrix, np.arange(1, 5))\n",
        "matrix"
      ]
    },
    {
      "cell_type": "markdown",
      "metadata": {
        "id": "-QT4MgXj10mP"
      },
      "source": [
        "9) Создать матрицу размера 5 на 5 заполненную чилами от 0 до 4 в строках."
      ]
    },
    {
      "cell_type": "code",
      "execution_count": null,
      "metadata": {
        "id": "V54aNTLE10mP"
      },
      "outputs": [],
      "source": [
        "np.tile(np.arange(0, 5), (5, 1))\n"
      ]
    },
    {
      "cell_type": "markdown",
      "metadata": {
        "id": "fu7T0-Rf10mQ"
      },
      "source": [
        "10) Создать матрицу случайных чисел размера 10 на 10 и отнять среднее по строкам из каждого элемента строки"
      ]
    },
    {
      "cell_type": "markdown",
      "source": [],
      "metadata": {
        "id": "1FdoJL0V_mwS"
      }
    },
    {
      "cell_type": "code",
      "execution_count": null,
      "metadata": {
        "id": "1cTriFVj10mR"
      },
      "outputs": [],
      "source": [
        "arr = np.random.rand(10, 10)\n",
        "means = np.mean(arr, axis=1)\n",
        "result = arr - means\n",
        "print(result)"
      ]
    },
    {
      "cell_type": "markdown",
      "metadata": {
        "id": "FDySr3CC10mR"
      },
      "source": [
        "11) Создать матрицу случайных чисел размера 10 на 10 и отнять медиану по столбцам из каждого элемента столбца  "
      ]
    },
    {
      "cell_type": "code",
      "execution_count": null,
      "metadata": {
        "id": "i_BxjibZ10mS"
      },
      "outputs": [],
      "source": [
        "arr = np.random.rand(10, 10)\n",
        "means = np.mean(arr, axis=0)\n",
        "result = arr - means\n",
        "print(result)"
      ]
    },
    {
      "cell_type": "markdown",
      "metadata": {
        "id": "ujQ200VA10mS"
      },
      "source": [
        "12) Создать матрицу случайных чисел 5x5. Добавить к ней столбецы максимумов и минимумов по строкам. Получится матрица 5x7.  "
      ]
    },
    {
      "cell_type": "code",
      "execution_count": null,
      "metadata": {
        "id": "moHnFx2Z10mS"
      },
      "outputs": [],
      "source": [
        "arr = np.random.rand(5, 5)\n",
        "maxim = np.max(arr, axis=1)\n",
        "minim = np.min(arr, axis=1)\n",
        "result = np.column_stack((arr, maxim, minim))\n",
        "print(result)"
      ]
    },
    {
      "cell_type": "markdown",
      "metadata": {
        "id": "e89VWzSk10mS"
      },
      "source": [
        "13) Вектор чисел от 1 до 51 преобразовать в вектор нечетных чисел и в вектор четных чисел, поменять их размерности, чтобы получились две матрица. Найти произведение этих матриц. Найти обратную матрицу эётого произведения.  "
      ]
    },
    {
      "cell_type": "code",
      "execution_count": null,
      "metadata": {
        "id": "BIs9TxSR10mT"
      },
      "outputs": [],
      "source": [
        "odds = np.arange(1, 51, 2).reshape(5, 5)\n",
        "evens = np.arange(0, 50, 2).reshape(5, 5)\n",
        "product = np.dot(odds, evens)\n",
        "print(np.linalg.det(product))\n",
        "#обратной матрицы не существует\n",
        "print (product)\n"
      ]
    },
    {
      "cell_type": "markdown",
      "metadata": {
        "id": "Eac1qCSI10mT"
      },
      "source": [
        "14) Создать 8x8 матрицу и заполнить её в шахматном порядке нулями и единицами."
      ]
    },
    {
      "cell_type": "code",
      "execution_count": null,
      "metadata": {
        "id": "vQ1Ts0vx10mU"
      },
      "outputs": [],
      "source": [
        "arr = np.zeros((8, 8), dtype=int)\n",
        "arr[1::2, ::2] = 1\n",
        "arr[::2, 1::2] = 1\n",
        "print(arr)\n"
      ]
    }
  ],
  "metadata": {
    "kernelspec": {
      "display_name": "Python 3 (ipykernel)",
      "language": "python",
      "name": "python3"
    },
    "language_info": {
      "codemirror_mode": {
        "name": "ipython",
        "version": 3
      },
      "file_extension": ".py",
      "mimetype": "text/x-python",
      "name": "python",
      "nbconvert_exporter": "python",
      "pygments_lexer": "ipython3",
      "version": "3.12.4"
    },
    "colab": {
      "provenance": [],
      "toc_visible": true,
      "include_colab_link": true
    }
  },
  "nbformat": 4,
  "nbformat_minor": 0
}