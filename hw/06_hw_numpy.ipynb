{
  "cells": [
    {
      "cell_type": "markdown",
      "metadata": {
        "id": "view-in-github",
        "colab_type": "text"
      },
      "source": [
        "<a href=\"https://colab.research.google.com/github/kllana/--201-0-01-/blob/main/hw/06_hw_numpy.ipynb\" target=\"_parent\"><img src=\"https://colab.research.google.com/assets/colab-badge.svg\" alt=\"Open In Colab\"/></a>"
      ]
    },
    {
      "cell_type": "markdown",
      "metadata": {
        "id": "w-8MF0U_10l0"
      },
      "source": [
        "# Домашняя работа. Numpy\n",
        "\n",
        "1. Скачайте этот ноутбук к себе.\n",
        "2. Заполните пропущенные ячейки, отвечая на заданные вопросы. Там должен быть код! (если не сказано обратное)\n",
        "3. Сохраните результат в своём гитхаб репозитории.\n",
        "\n",
        "#### Полезная литература\n",
        "\n",
        "- http://www.numpy.org/\n",
        "- https://jakevdp.github.io/PythonDataScienceHandbook/02.00-introduction-to-numpy.html\n",
        "- https://docs.scipy.org/doc/numpy/user/quickstart.html"
      ]
    },
    {
      "cell_type": "markdown",
      "metadata": {
        "id": "_qLb0LOq10mA"
      },
      "source": [
        "1) Импортировать numpy и написать версию"
      ]
    },
    {
      "cell_type": "code",
      "execution_count": 15,
      "metadata": {
        "id": "nn5hfn1D10mC",
        "colab": {
          "base_uri": "https://localhost:8080/"
        },
        "outputId": "7fa4a242-c514-4873-b208-fe9519619258"
      },
      "outputs": [
        {
          "output_type": "stream",
          "name": "stdout",
          "text": [
            "1.26.4\n"
          ]
        }
      ],
      "source": [
        "import numpy as np\n",
        "print(np.__version__)"
      ]
    },
    {
      "cell_type": "markdown",
      "metadata": {
        "id": "2IymfIFq10mD"
      },
      "source": [
        "2) Создать нулевой вектор размера 10"
      ]
    },
    {
      "cell_type": "code",
      "execution_count": 16,
      "metadata": {
        "id": "az6PhCH110mE",
        "colab": {
          "base_uri": "https://localhost:8080/"
        },
        "outputId": "305069e2-3ea9-4eda-a294-9b4dfc3fbd49"
      },
      "outputs": [
        {
          "output_type": "execute_result",
          "data": {
            "text/plain": [
              "array([0., 0., 0., 0., 0., 0., 0., 0., 0., 0.])"
            ]
          },
          "metadata": {},
          "execution_count": 16
        }
      ],
      "source": [
        "np.zeros(10)"
      ]
    },
    {
      "cell_type": "markdown",
      "metadata": {
        "id": "5BfTRIe_10mF"
      },
      "source": [
        "3) Создать вектор заполненный 7-ами размера 7"
      ]
    },
    {
      "cell_type": "code",
      "execution_count": 17,
      "metadata": {
        "id": "5_Mg0H3S10mF",
        "colab": {
          "base_uri": "https://localhost:8080/"
        },
        "outputId": "98b014b4-9a91-495a-d3d3-3b4fefd72fa1"
      },
      "outputs": [
        {
          "output_type": "execute_result",
          "data": {
            "text/plain": [
              "array([7, 7, 7, 7, 7, 7, 7])"
            ]
          },
          "metadata": {},
          "execution_count": 17
        }
      ],
      "source": [
        "np.full((7),7)"
      ]
    },
    {
      "cell_type": "markdown",
      "metadata": {
        "id": "uxWg_bpr10mH"
      },
      "source": [
        "4) Создать вектор заполненный четными числами от 10 до 100"
      ]
    },
    {
      "cell_type": "code",
      "execution_count": 18,
      "metadata": {
        "id": "70Q1D6mx10mI",
        "colab": {
          "base_uri": "https://localhost:8080/"
        },
        "outputId": "b5a1698c-7808-4e92-c413-fbbc524f9508"
      },
      "outputs": [
        {
          "output_type": "execute_result",
          "data": {
            "text/plain": [
              "array([ 10,  12,  14,  16,  18,  20,  22,  24,  26,  28,  30,  32,  34,\n",
              "        36,  38,  40,  42,  44,  46,  48,  50,  52,  54,  56,  58,  60,\n",
              "        62,  64,  66,  68,  70,  72,  74,  76,  78,  80,  82,  84,  86,\n",
              "        88,  90,  92,  94,  96,  98, 100])"
            ]
          },
          "metadata": {},
          "execution_count": 18
        }
      ],
      "source": [
        "np.arange(10, 101, 2)"
      ]
    },
    {
      "cell_type": "markdown",
      "metadata": {
        "id": "pYmGCmtJ10mK"
      },
      "source": [
        "5) Создать массив случайных чисел и развернуть его задом наперёд"
      ]
    },
    {
      "cell_type": "code",
      "execution_count": 19,
      "metadata": {
        "id": "oH-brdgi10mL",
        "colab": {
          "base_uri": "https://localhost:8080/"
        },
        "outputId": "b14a621a-b7e9-47fb-f96f-90b1f6731d10"
      },
      "outputs": [
        {
          "output_type": "stream",
          "name": "stdout",
          "text": [
            "[0.77387955 0.87329211 0.45176406 0.08703125 0.7582959  0.54566662\n",
            " 0.26108527 0.16505233 0.05037298 0.55113351]\n",
            "[0.55113351 0.05037298 0.16505233 0.26108527 0.54566662 0.7582959\n",
            " 0.08703125 0.45176406 0.87329211 0.77387955]\n"
          ]
        }
      ],
      "source": [
        "arr = np.random.rand(10)\n",
        "print (arr)\n",
        "arr2 = arr [::-1]\n",
        "print (arr2)"
      ]
    },
    {
      "cell_type": "markdown",
      "metadata": {
        "id": "ErrDETrG10mL"
      },
      "source": [
        "6) Создать двумерную матрицу размера 3 на 3, заполненную числами от 0 до 9"
      ]
    },
    {
      "cell_type": "code",
      "execution_count": 20,
      "metadata": {
        "id": "FldEJ-K_10mM",
        "colab": {
          "base_uri": "https://localhost:8080/"
        },
        "outputId": "ba8fc6d3-aeda-4db9-b279-4119fcfe2d06"
      },
      "outputs": [
        {
          "output_type": "execute_result",
          "data": {
            "text/plain": [
              "array([[0, 1, 2],\n",
              "       [3, 4, 5],\n",
              "       [6, 7, 8]])"
            ]
          },
          "metadata": {},
          "execution_count": 20
        }
      ],
      "source": [
        "np.arange(9).reshape(3,3)"
      ]
    },
    {
      "cell_type": "markdown",
      "metadata": {
        "id": "rRvpLpP010mN"
      },
      "source": [
        "7) Создать матрицу размера 4 на 4 с единицами на диагонали смещеной на один наверх."
      ]
    },
    {
      "cell_type": "code",
      "execution_count": 21,
      "metadata": {
        "id": "t9GGPE2V10mO",
        "colab": {
          "base_uri": "https://localhost:8080/"
        },
        "outputId": "7c0f4a46-4e1b-4c21-88a2-d19e7aa3cb4d"
      },
      "outputs": [
        {
          "output_type": "execute_result",
          "data": {
            "text/plain": [
              "array([[0., 1., 0., 0.],\n",
              "       [0., 0., 1., 0.],\n",
              "       [0., 0., 0., 1.],\n",
              "       [0., 0., 0., 0.]])"
            ]
          },
          "metadata": {},
          "execution_count": 21
        }
      ],
      "source": [
        "np.eye(4, k=1)"
      ]
    },
    {
      "cell_type": "markdown",
      "metadata": {
        "id": "1P5LTVYw10mO"
      },
      "source": [
        "8) Создать матрицу с числами в диапазоне от 1 до 4 по диагонали. В других ячейках матрицы должны быть семерки."
      ]
    },
    {
      "cell_type": "code",
      "execution_count": 22,
      "metadata": {
        "id": "b49vULnK10mO",
        "colab": {
          "base_uri": "https://localhost:8080/"
        },
        "outputId": "35fe4ebb-0412-4d7a-957d-dc5f865a90bb"
      },
      "outputs": [
        {
          "output_type": "execute_result",
          "data": {
            "text/plain": [
              "array([[1, 7, 7, 7],\n",
              "       [7, 2, 7, 7],\n",
              "       [7, 7, 3, 7],\n",
              "       [7, 7, 7, 4]])"
            ]
          },
          "metadata": {},
          "execution_count": 22
        }
      ],
      "source": [
        "matrix = np.full((4, 4), 7)\n",
        "np.fill_diagonal(matrix, np.arange(1, 5))\n",
        "matrix"
      ]
    },
    {
      "cell_type": "markdown",
      "metadata": {
        "id": "-QT4MgXj10mP"
      },
      "source": [
        "9) Создать матрицу размера 5 на 5 заполненную чилами от 0 до 4 в строках."
      ]
    },
    {
      "cell_type": "code",
      "execution_count": 23,
      "metadata": {
        "id": "V54aNTLE10mP",
        "colab": {
          "base_uri": "https://localhost:8080/"
        },
        "outputId": "9ddd4354-5162-46a2-afd9-bc9fb5e74d18"
      },
      "outputs": [
        {
          "output_type": "execute_result",
          "data": {
            "text/plain": [
              "array([[0, 1, 2, 3, 4],\n",
              "       [0, 1, 2, 3, 4],\n",
              "       [0, 1, 2, 3, 4],\n",
              "       [0, 1, 2, 3, 4],\n",
              "       [0, 1, 2, 3, 4]])"
            ]
          },
          "metadata": {},
          "execution_count": 23
        }
      ],
      "source": [
        "np.tile(np.arange(0, 5), (5, 1))\n"
      ]
    },
    {
      "cell_type": "markdown",
      "metadata": {
        "id": "fu7T0-Rf10mQ"
      },
      "source": [
        "10) Создать матрицу случайных чисел размера 10 на 10 и отнять среднее по строкам из каждого элемента строки"
      ]
    },
    {
      "cell_type": "markdown",
      "source": [],
      "metadata": {
        "id": "1FdoJL0V_mwS"
      }
    },
    {
      "cell_type": "code",
      "execution_count": 24,
      "metadata": {
        "id": "1cTriFVj10mR",
        "colab": {
          "base_uri": "https://localhost:8080/"
        },
        "outputId": "8078dd5c-2634-49b8-e48b-ba4a4b155954"
      },
      "outputs": [
        {
          "output_type": "stream",
          "name": "stdout",
          "text": [
            "[[ 0.3911123   0.40668492 -0.55632422  0.39992982 -0.1646261  -0.46380656\n",
            "  -0.24481104 -0.51612741  0.37213638 -0.05192562]\n",
            " [-0.39027634 -0.43173676 -0.16887958  0.00542507 -0.32783082  0.20442762\n",
            "  -0.26312317  0.38932507  0.41276429  0.28852487]\n",
            " [ 0.0407302   0.50568082 -0.22303565  0.53532084  0.03866128  0.03787309\n",
            "  -0.1283378   0.25634374 -0.03904069  0.09113843]\n",
            " [-0.32455605 -0.11310251  0.06533424 -0.22633388 -0.12500111 -0.49595073\n",
            "  -0.2974967  -0.47076715  0.01828409  0.44056099]\n",
            " [-0.06525679  0.46855661 -0.21445829 -0.2691635  -0.03529707 -0.24713234\n",
            "   0.00548725  0.3871882  -0.05308605  0.23870711]\n",
            " [-0.1683781   0.49014249  0.39979397  0.31490791 -0.18550622 -0.27841295\n",
            "   0.49638423  0.12749557 -0.36562294  0.19019331]\n",
            " [ 0.53361206  0.09955244 -0.2166962   0.27401373 -0.36509934  0.30762039\n",
            "   0.24551864 -0.4486712  -0.25231093 -0.41417868]\n",
            " [ 0.14163436 -0.26113069  0.1605698   0.29555451  0.20745743  0.00504931\n",
            "   0.49628422 -0.19245605 -0.20249417  0.13774959]\n",
            " [-0.09995813  0.30271751 -0.00444533  0.42810999 -0.45057163 -0.22689941\n",
            "  -0.01823055 -0.21932642 -0.17332771 -0.42100332]\n",
            " [-0.2805615  -0.43493968  0.15983393  0.07545694 -0.31694925 -0.05270923\n",
            "  -0.21650936  0.42749421  0.53766867  0.31886046]]\n"
          ]
        }
      ],
      "source": [
        "arr = np.random.rand(10, 10)\n",
        "means = np.mean(arr, axis=1)\n",
        "result = arr - means\n",
        "print(result)"
      ]
    },
    {
      "cell_type": "markdown",
      "metadata": {
        "id": "FDySr3CC10mR"
      },
      "source": [
        "11) Создать матрицу случайных чисел размера 10 на 10 и отнять медиану по столбцам из каждого элемента столбца  "
      ]
    },
    {
      "cell_type": "code",
      "execution_count": 25,
      "metadata": {
        "id": "i_BxjibZ10mS",
        "colab": {
          "base_uri": "https://localhost:8080/"
        },
        "outputId": "461ef23a-dbad-413e-f630-772339c35f95"
      },
      "outputs": [
        {
          "output_type": "stream",
          "name": "stdout",
          "text": [
            "[[-3.80199631e-01  3.12461329e-01  7.03833318e-02 -2.99722486e-01\n",
            "  -3.96158242e-01 -2.78756910e-01 -5.30790253e-01 -1.40498346e-01\n",
            "   1.93592042e-01 -2.25199268e-01]\n",
            " [-2.18546189e-01 -2.62082591e-01  9.61035574e-02  8.92001272e-03\n",
            "   3.44270696e-01 -4.15688179e-01 -2.62549633e-01  3.56813742e-01\n",
            "   2.72096806e-01  2.35462971e-01]\n",
            " [ 1.86619719e-01 -2.37651525e-01 -3.70989332e-01 -1.99064464e-03\n",
            "   4.48957063e-02  3.66856526e-02 -1.06671376e-01 -1.56479472e-01\n",
            "   2.72995211e-01  2.97115224e-01]\n",
            " [ 2.96830956e-01 -2.44260931e-01  1.34033195e-02  2.88701549e-01\n",
            "   2.00238391e-01  4.25079819e-01  8.59168434e-02 -6.56797552e-02\n",
            "   7.31030978e-02  1.39953860e-01]\n",
            " [ 1.92695279e-01  3.73798106e-01  4.64553310e-01  3.23176707e-01\n",
            "  -2.25733638e-01  1.15583761e-01 -1.14809945e-01  4.39741619e-01\n",
            "  -2.09705837e-02 -4.42992214e-01]\n",
            " [-3.66214511e-01 -3.63878789e-04  2.69101584e-01 -1.43574352e-01\n",
            "   7.76853153e-02 -4.66941240e-01  3.80258867e-01 -2.76036826e-01\n",
            "  -2.00849080e-01 -3.66301565e-01]\n",
            " [-1.86093756e-01 -3.96458258e-01  1.72960136e-01 -3.43872870e-01\n",
            "  -3.63247134e-01  3.76927503e-01  3.03795163e-01 -4.63659005e-01\n",
            "  -2.06139405e-01 -2.48582750e-01]\n",
            " [ 1.40007989e-01 -1.90382265e-02 -3.97715858e-01  4.04867571e-01\n",
            "   3.07292137e-01 -1.40541594e-01  6.30402978e-02 -4.47547738e-01\n",
            "  -4.02381930e-01  5.15482938e-01]\n",
            " [ 1.49968968e-01  4.51085751e-01  9.71607818e-02 -3.50513196e-01\n",
            "  -4.39815579e-02  3.23569003e-01  8.50036893e-02  4.30851113e-01\n",
            "   1.16005476e-01  4.50843387e-01]\n",
            " [ 1.84931175e-01  2.25102255e-02 -4.14960831e-01  1.14007709e-01\n",
            "   5.47383263e-02  2.40821848e-02  9.68063462e-02  3.22494670e-01\n",
            "  -9.74516343e-02 -3.55782585e-01]]\n"
          ]
        }
      ],
      "source": [
        "arr = np.random.rand(10, 10)\n",
        "means = np.mean(arr, axis=0)\n",
        "result = arr - means\n",
        "print(result)"
      ]
    },
    {
      "cell_type": "markdown",
      "metadata": {
        "id": "ujQ200VA10mS"
      },
      "source": [
        "12) Создать матрицу случайных чисел 5x5. Добавить к ней столбецы максимумов и минимумов по строкам. Получится матрица 5x7.  "
      ]
    },
    {
      "cell_type": "code",
      "execution_count": 26,
      "metadata": {
        "id": "moHnFx2Z10mS",
        "colab": {
          "base_uri": "https://localhost:8080/"
        },
        "outputId": "7c2e1177-d78e-401b-8dea-4e59880ac038"
      },
      "outputs": [
        {
          "output_type": "stream",
          "name": "stdout",
          "text": [
            "[[0.1229625  0.69959562 0.14536767 0.8711479  0.80541908 0.8711479\n",
            "  0.1229625 ]\n",
            " [0.79121967 0.75418298 0.54135694 0.75779499 0.35286454 0.79121967\n",
            "  0.35286454]\n",
            " [0.13634746 0.16138579 0.4903471  0.15161182 0.33355073 0.4903471\n",
            "  0.13634746]\n",
            " [0.34169827 0.91214795 0.16393871 0.17837234 0.47049187 0.91214795\n",
            "  0.16393871]\n",
            " [0.40927149 0.24842079 0.67010802 0.74836904 0.06786281 0.74836904\n",
            "  0.06786281]]\n"
          ]
        }
      ],
      "source": [
        "arr = np.random.rand(5, 5)\n",
        "maxim = np.max(arr, axis=1)\n",
        "minim = np.min(arr, axis=1)\n",
        "result = np.column_stack((arr, maxim, minim))\n",
        "print(result)"
      ]
    },
    {
      "cell_type": "markdown",
      "metadata": {
        "id": "e89VWzSk10mS"
      },
      "source": [
        "13) Вектор чисел от 1 до 51 преобразовать в вектор нечетных чисел и в вектор четных чисел, поменять их размерности, чтобы получились две матрица. Найти произведение этих матриц. Найти обратную матрицу эётого произведения.  "
      ]
    },
    {
      "cell_type": "code",
      "execution_count": 27,
      "metadata": {
        "id": "BIs9TxSR10mT",
        "colab": {
          "base_uri": "https://localhost:8080/"
        },
        "outputId": "3032e4b2-ed35-4da0-e26e-480768da7bae"
      },
      "outputs": [
        {
          "output_type": "stream",
          "name": "stdout",
          "text": [
            "1.5046327690525217e-32\n",
            "[[ 700  750  800  850  900]\n",
            " [1700 1850 2000 2150 2300]\n",
            " [2700 2950 3200 3450 3700]\n",
            " [3700 4050 4400 4750 5100]\n",
            " [4700 5150 5600 6050 6500]]\n"
          ]
        }
      ],
      "source": [
        "odds = np.arange(1, 51, 2).reshape(5, 5)\n",
        "evens = np.arange(0, 50, 2).reshape(5, 5)\n",
        "product = np.dot(odds, evens)\n",
        "print(np.linalg.det(product))\n",
        "#обратной матрицы не существует\n",
        "print (product)\n"
      ]
    },
    {
      "cell_type": "markdown",
      "metadata": {
        "id": "Eac1qCSI10mT"
      },
      "source": [
        "14) Создать 8x8 матрицу и заполнить её в шахматном порядке нулями и единицами."
      ]
    },
    {
      "cell_type": "code",
      "execution_count": 28,
      "metadata": {
        "id": "vQ1Ts0vx10mU",
        "colab": {
          "base_uri": "https://localhost:8080/"
        },
        "outputId": "9ac0a1d3-f97c-46a9-8056-70563dc539ab"
      },
      "outputs": [
        {
          "output_type": "stream",
          "name": "stdout",
          "text": [
            "[[0 1 0 1 0 1 0 1]\n",
            " [1 0 1 0 1 0 1 0]\n",
            " [0 1 0 1 0 1 0 1]\n",
            " [1 0 1 0 1 0 1 0]\n",
            " [0 1 0 1 0 1 0 1]\n",
            " [1 0 1 0 1 0 1 0]\n",
            " [0 1 0 1 0 1 0 1]\n",
            " [1 0 1 0 1 0 1 0]]\n"
          ]
        }
      ],
      "source": [
        "arr = np.zeros((8, 8), dtype=int)\n",
        "arr[1::2, ::2] = 1\n",
        "arr[::2, 1::2] = 1\n",
        "print(arr)\n"
      ]
    }
  ],
  "metadata": {
    "kernelspec": {
      "display_name": "Python 3 (ipykernel)",
      "language": "python",
      "name": "python3"
    },
    "language_info": {
      "codemirror_mode": {
        "name": "ipython",
        "version": 3
      },
      "file_extension": ".py",
      "mimetype": "text/x-python",
      "name": "python",
      "nbconvert_exporter": "python",
      "pygments_lexer": "ipython3",
      "version": "3.12.4"
    },
    "colab": {
      "provenance": [],
      "toc_visible": true,
      "include_colab_link": true
    }
  },
  "nbformat": 4,
  "nbformat_minor": 0
}